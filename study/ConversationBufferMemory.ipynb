{
 "cells": [
  {
   "cell_type": "markdown",
   "metadata": {},
   "source": [
    "## ConversionBufferMemory\n",
    "- 기본적으로 모델은 이전에 무슨 대화를 나눴는지 기억을 하지 않음\n",
    "- 따라서, 사람이 채팅을 할 때마다 이전 대화 내용을 넘겨줘야 함\n",
    "- 이렇게 되면, 모델은 이전 맥락을 반영하여 적합한 반응을 할 수 있음\n",
    "- But, 대화 내용이 길어질수록, 메모리의 크기가 증가하며 이에 따른 토큰 비용도 증가함"
   ]
  },
  {
   "cell_type": "code",
   "execution_count": 1,
   "metadata": {},
   "outputs": [],
   "source": [
    "from langchain.memory import ConversationBufferMemory"
   ]
  },
  {
   "cell_type": "code",
   "execution_count": 3,
   "metadata": {},
   "outputs": [
    {
     "data": {
      "text/plain": [
       "{'history': [HumanMessage(content='Hi!'), AIMessage(content='How are you?')]}"
      ]
     },
     "execution_count": 3,
     "metadata": {},
     "output_type": "execute_result"
    }
   ],
   "source": [
    "memory = ConversationBufferMemory(return_messages=True)\n",
    "\n",
    "# 맥락 저장\n",
    "memory.save_context(\n",
    "    inputs={\"input\": \"Hi!\"},\n",
    "    outputs={\"output\": \"How are you?\"}\n",
    ")\n",
    "\n",
    "# 현재까지 저장된 대화 기록 호출\n",
    "memory.load_memory_variables(inputs={})"
   ]
  },
  {
   "cell_type": "code",
   "execution_count": 4,
   "metadata": {},
   "outputs": [
    {
     "data": {
      "text/plain": [
       "{'history': [HumanMessage(content='Hi!'),\n",
       "  AIMessage(content='How are you?'),\n",
       "  HumanMessage(content='Fine! I went to the Gocheok Sky Dome and met LA Dodgers baseball players!'),\n",
       "  AIMessage(content=\"Wow, that's pretty cool:)\")]}"
      ]
     },
     "execution_count": 4,
     "metadata": {},
     "output_type": "execute_result"
    }
   ],
   "source": [
    "memory.save_context(\n",
    "    inputs={\"input\": \"Fine! I went to the Gocheok Sky Dome and met LA Dodgers baseball players!\"},\n",
    "    outputs={\"output\": \"Wow, that's pretty cool:)\"}\n",
    ")\n",
    "\n",
    "memory.load_memory_variables(inputs={})"
   ]
  },
  {
   "cell_type": "code",
   "execution_count": null,
   "metadata": {},
   "outputs": [],
   "source": []
  }
 ],
 "metadata": {
  "kernelspec": {
   "display_name": "gpt",
   "language": "python",
   "name": "python3"
  },
  "language_info": {
   "codemirror_mode": {
    "name": "ipython",
    "version": 3
   },
   "file_extension": ".py",
   "mimetype": "text/x-python",
   "name": "python",
   "nbconvert_exporter": "python",
   "pygments_lexer": "ipython3",
   "version": "3.11.8"
  }
 },
 "nbformat": 4,
 "nbformat_minor": 2
}
