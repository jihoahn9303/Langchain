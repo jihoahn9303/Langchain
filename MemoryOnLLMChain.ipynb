{
 "cells": [
  {
   "cell_type": "markdown",
   "metadata": {},
   "source": [
    "## LLMChain\n",
    "- memory에서 기억하고 있는 내용을 chain에 주입하는 방법 중 하나임.\n",
    "    - Off-the-shell memory로서, 범용적인 chain이다.\n",
    "    \n",
    "- 여기서는, memory를 chatting을 위한 chain에 주입하려고 한다."
   ]
  },
  {
   "cell_type": "markdown",
   "metadata": {},
   "source": [
    "### 문자열 형태의 prompt를 이용"
   ]
  },
  {
   "cell_type": "code",
   "execution_count": 10,
   "metadata": {},
   "outputs": [],
   "source": [
    "from langchain.memory import ConversationSummaryBufferMemory\n",
    "from langchain.chat_models import ChatOpenAI\n",
    "from langchain.chains import LLMChain\n",
    "from langchain.prompts import (\n",
    "    PromptTemplate, \n",
    "    ChatPromptTemplate,\n",
    "    MessagesPlaceholder\n",
    ")"
   ]
  },
  {
   "cell_type": "code",
   "execution_count": 3,
   "metadata": {},
   "outputs": [],
   "source": [
    "llm = ChatOpenAI(temperature=0.2)\n",
    "\n",
    "memory = ConversationSummaryBufferMemory(\n",
    "    llm=llm,\n",
    "    max_token_limit=80\n",
    ")"
   ]
  },
  {
   "cell_type": "code",
   "execution_count": 9,
   "metadata": {},
   "outputs": [
    {
     "name": "stdout",
     "output_type": "stream",
     "text": [
      "\n",
      "\n",
      "\u001b[1m> Entering new LLMChain chain...\u001b[0m\n",
      "Prompt after formatting:\n",
      "\u001b[32;1m\u001b[1;3mMy name is jiho!\u001b[0m\n",
      "\n",
      "\u001b[1m> Finished chain.\u001b[0m\n"
     ]
    },
    {
     "data": {
      "text/plain": [
       "'Hello Jiho! How can I assist you today?'"
      ]
     },
     "execution_count": 9,
     "metadata": {},
     "output_type": "execute_result"
    }
   ],
   "source": [
    "chain = LLMChain(\n",
    "    llm=llm,\n",
    "    memory=memory,\n",
    "    prompt=PromptTemplate.from_template(\"{question}\"),\n",
    "    verbose=True\n",
    ")\n",
    "\n",
    "chain.predict(question=\"My name is jiho!\")"
   ]
  },
  {
   "cell_type": "code",
   "execution_count": 10,
   "metadata": {},
   "outputs": [
    {
     "name": "stdout",
     "output_type": "stream",
     "text": [
      "\n",
      "\n",
      "\u001b[1m> Entering new LLMChain chain...\u001b[0m\n",
      "Prompt after formatting:\n",
      "\u001b[32;1m\u001b[1;3mI live in Seoul!\u001b[0m\n",
      "\n",
      "\u001b[1m> Finished chain.\u001b[0m\n"
     ]
    },
    {
     "data": {
      "text/plain": [
       "\"That's great! Seoul is a vibrant and bustling city with a rich history and culture. There are so many things to see and do in Seoul, from exploring ancient palaces and temples to enjoying delicious Korean cuisine and shopping in trendy neighborhoods. What do you enjoy most about living in Seoul?\""
      ]
     },
     "execution_count": 10,
     "metadata": {},
     "output_type": "execute_result"
    }
   ],
   "source": [
    "chain.predict(question=\"I live in Seoul!\")"
   ]
  },
  {
   "cell_type": "code",
   "execution_count": 11,
   "metadata": {},
   "outputs": [
    {
     "name": "stdout",
     "output_type": "stream",
     "text": [
      "\n",
      "\n",
      "\u001b[1m> Entering new LLMChain chain...\u001b[0m\n",
      "Prompt after formatting:\n",
      "\u001b[32;1m\u001b[1;3mWhat is my name?\u001b[0m\n",
      "\n",
      "\u001b[1m> Finished chain.\u001b[0m\n"
     ]
    },
    {
     "data": {
      "text/plain": [
       "\"I'm sorry, I do not have access to that information.\""
      ]
     },
     "execution_count": 11,
     "metadata": {},
     "output_type": "execute_result"
    }
   ],
   "source": [
    "chain.predict(question=\"What is my name?\")"
   ]
  },
  {
   "cell_type": "markdown",
   "metadata": {},
   "source": [
    "- 나는 분명하게 이름을 말했는데, LLM은 이전의 내용을 전혀 기억하지 못하고 있다!"
   ]
  },
  {
   "cell_type": "code",
   "execution_count": 12,
   "metadata": {},
   "outputs": [
    {
     "data": {
      "text/plain": [
       "{'history': \"System: Jiho introduces themselves as living in Seoul, and the AI responds positively, highlighting the vibrant and bustling city with a rich history and culture. The AI expresses hope that Jiho is enjoying their time living in Seoul. When Jiho reveals their name, the AI greets them warmly and asks how it can assist. The human shares their excitement about living in Seoul, mentioning the variety of things to see and do in the city.\\nHuman: What is my name?\\nAI: I'm sorry, I do not have access to that information.\"}"
      ]
     },
     "execution_count": 12,
     "metadata": {},
     "output_type": "execute_result"
    }
   ],
   "source": [
    "memory.load_memory_variables({})"
   ]
  },
  {
   "cell_type": "markdown",
   "metadata": {},
   "source": [
    "- memory에는 분명하게 이전 대화 기록이 남아있음을 확인할 수 있다.\n",
    "- 따라서, 채팅 LLM이 memory의 내용을 인식할 수 있도록 추가적인 조치를 취해야 한다!"
   ]
  },
  {
   "cell_type": "markdown",
   "metadata": {},
   "source": [
    "#### 해결책\n",
    "- 1. 템플릿에 대화 기록을 저장할 공간(Placeholder)를 마련한다.\n",
    "- 2. memory 객체 생성 시, memory_key 파라미터를 통해 placeholder 이름을 명시한다.\n"
   ]
  },
  {
   "cell_type": "code",
   "execution_count": 4,
   "metadata": {},
   "outputs": [
    {
     "name": "stdout",
     "output_type": "stream",
     "text": [
      "\n",
      "\n",
      "\u001b[1m> Entering new LLMChain chain...\u001b[0m\n",
      "Prompt after formatting:\n",
      "\u001b[32;1m\u001b[1;3m\n",
      "You are a helpful AI talking to human!\n",
      "\n",
      "\n",
      "Human: My name is jiho!\n",
      "You:        \n",
      "\u001b[0m\n",
      "\n",
      "\u001b[1m> Finished chain.\u001b[0m\n"
     ]
    },
    {
     "data": {
      "text/plain": [
       "'Hello Jiho! How can I assist you today?'"
      ]
     },
     "execution_count": 4,
     "metadata": {},
     "output_type": "execute_result"
    }
   ],
   "source": [
    "llm = ChatOpenAI(temperature=0.2)\n",
    "\n",
    "memory = ConversationSummaryBufferMemory(\n",
    "    llm=llm,\n",
    "    max_token_limit=100,\n",
    "    memory_key=\"chat_history\"\n",
    ")\n",
    "\n",
    "template = \"\"\"\n",
    "You are a helpful AI talking to human!\n",
    "\n",
    "{chat_history}\n",
    "Human: {question}\n",
    "You:        \n",
    "\"\"\"\n",
    "\n",
    "chain = LLMChain(\n",
    "    llm=llm,\n",
    "    memory=memory,\n",
    "    prompt=PromptTemplate.from_template(template),\n",
    "    verbose=True\n",
    ")\n",
    "\n",
    "chain.predict(question=\"My name is jiho!\")"
   ]
  },
  {
   "cell_type": "code",
   "execution_count": 5,
   "metadata": {},
   "outputs": [
    {
     "name": "stdout",
     "output_type": "stream",
     "text": [
      "\n",
      "\n",
      "\u001b[1m> Entering new LLMChain chain...\u001b[0m\n",
      "Prompt after formatting:\n",
      "\u001b[32;1m\u001b[1;3m\n",
      "You are a helpful AI talking to human!\n",
      "\n",
      "Human: My name is jiho!\n",
      "AI: Hello Jiho! How can I assist you today?\n",
      "Human: I live in Seoul!\n",
      "You:        \n",
      "\u001b[0m\n",
      "\n",
      "\u001b[1m> Finished chain.\u001b[0m\n"
     ]
    },
    {
     "data": {
      "text/plain": [
       "\"That's great to hear! Seoul is a vibrant and bustling city. Is there anything specific you would like to know or talk about regarding Seoul?\""
      ]
     },
     "execution_count": 5,
     "metadata": {},
     "output_type": "execute_result"
    }
   ],
   "source": [
    "chain.predict(question=\"I live in Seoul!\")"
   ]
  },
  {
   "cell_type": "code",
   "execution_count": 6,
   "metadata": {},
   "outputs": [
    {
     "name": "stdout",
     "output_type": "stream",
     "text": [
      "\n",
      "\n",
      "\u001b[1m> Entering new LLMChain chain...\u001b[0m\n",
      "Prompt after formatting:\n",
      "\u001b[32;1m\u001b[1;3m\n",
      "You are a helpful AI talking to human!\n",
      "\n",
      "Human: My name is jiho!\n",
      "AI: Hello Jiho! How can I assist you today?\n",
      "Human: I live in Seoul!\n",
      "AI: That's great to hear! Seoul is a vibrant and bustling city. Is there anything specific you would like to know or talk about regarding Seoul?\n",
      "Human: Gwangjang market is very famous traditional market in Seoul! There are lots of star foods including Spicy rice cake, beef tartare and so on.\n",
      "You:        \n",
      "\u001b[0m\n",
      "\n",
      "\u001b[1m> Finished chain.\u001b[0m\n"
     ]
    },
    {
     "data": {
      "text/plain": [
       "'Yes, Gwangjang Market is indeed a famous traditional market in Seoul known for its delicious street food offerings. Spicy rice cakes (tteokbokki) and beef tartare (yukhoe) are definitely popular choices among visitors. Have you had the chance to try any of these dishes at Gwangjang Market?'"
      ]
     },
     "execution_count": 6,
     "metadata": {},
     "output_type": "execute_result"
    }
   ],
   "source": [
    "chain.predict(question=\"Gwangjang market is very famous traditional market in Seoul! There are lots of star foods including Spicy rice cake, beef tartare and so on.\")"
   ]
  },
  {
   "cell_type": "code",
   "execution_count": 7,
   "metadata": {},
   "outputs": [
    {
     "name": "stdout",
     "output_type": "stream",
     "text": [
      "\n",
      "\n",
      "\u001b[1m> Entering new LLMChain chain...\u001b[0m\n",
      "Prompt after formatting:\n",
      "\u001b[32;1m\u001b[1;3m\n",
      "You are a helpful AI talking to human!\n",
      "\n",
      "System: The human introduces themselves as Jiho and mentions they live in Seoul. The AI acknowledges this and asks if there is anything specific they would like to know or talk about regarding Seoul. Jiho mentions Gwangjang market as a famous traditional market in Seoul, highlighting the various star foods available such as Spicy rice cake and beef tartare.\n",
      "AI: Yes, Gwangjang Market is indeed a famous traditional market in Seoul known for its delicious street food offerings. Spicy rice cakes (tteokbokki) and beef tartare (yukhoe) are definitely popular choices among visitors. Have you had the chance to try any of these dishes at Gwangjang Market?\n",
      "Human: Yeah, i went to there to eat yukhoe with my friend! Very delicious! Amazing!\n",
      "You:        \n",
      "\u001b[0m\n",
      "\n",
      "\u001b[1m> Finished chain.\u001b[0m\n"
     ]
    },
    {
     "data": {
      "text/plain": [
       "\"That's great to hear, Jiho! Yukhoe is definitely a tasty dish to try at Gwangjang Market. It's wonderful that you had a delicious experience there with your friend. Is there any other street food or dish you would recommend trying at Gwangjang Market?\""
      ]
     },
     "execution_count": 7,
     "metadata": {},
     "output_type": "execute_result"
    }
   ],
   "source": [
    "chain.predict(question=\"Yeah, i went to there to eat yukhoe with my friend! Very delicious! Amazing!\")"
   ]
  },
  {
   "cell_type": "markdown",
   "metadata": {},
   "source": [
    "### 메시지 형태 프롬프트를 사용"
   ]
  },
  {
   "cell_type": "code",
   "execution_count": 11,
   "metadata": {},
   "outputs": [
    {
     "name": "stdout",
     "output_type": "stream",
     "text": [
      "\n",
      "\n",
      "\u001b[1m> Entering new LLMChain chain...\u001b[0m\n",
      "Prompt after formatting:\n",
      "\u001b[32;1m\u001b[1;3mSystem: You are a helpful AI talking to human!\n",
      "Human: My name is jiho!\u001b[0m\n",
      "\n",
      "\u001b[1m> Finished chain.\u001b[0m\n"
     ]
    },
    {
     "data": {
      "text/plain": [
       "'Hello Jiho! How can I assist you today?'"
      ]
     },
     "execution_count": 11,
     "metadata": {},
     "output_type": "execute_result"
    }
   ],
   "source": [
    "llm = ChatOpenAI(temperature=0.2)\n",
    "\n",
    "memory = ConversationSummaryBufferMemory(\n",
    "    llm=llm,\n",
    "    max_token_limit=100,\n",
    "    memory_key=\"chat_history\",\n",
    "    return_messages=True\n",
    ")\n",
    "\n",
    "# MessagesPlaceholder 객체를 통해, 이전 대화 기록을 저장한다.\n",
    "prompt = ChatPromptTemplate.from_messages(\n",
    "    messages=[\n",
    "        (\"system\", \"You are a helpful AI talking to human!\"),\n",
    "        MessagesPlaceholder(variable_name=\"chat_history\"),\n",
    "        (\"human\", \"{question}\")\n",
    "    ]\n",
    ")\n",
    "\n",
    "chain = LLMChain(\n",
    "    llm=llm,\n",
    "    memory=memory,\n",
    "    prompt=prompt,\n",
    "    verbose=True\n",
    ")\n",
    "\n",
    "chain.predict(question=\"My name is jiho!\")"
   ]
  },
  {
   "cell_type": "code",
   "execution_count": 12,
   "metadata": {},
   "outputs": [
    {
     "name": "stdout",
     "output_type": "stream",
     "text": [
      "\n",
      "\n",
      "\u001b[1m> Entering new LLMChain chain...\u001b[0m\n",
      "Prompt after formatting:\n",
      "\u001b[32;1m\u001b[1;3mSystem: You are a helpful AI talking to human!\n",
      "Human: My name is jiho!\n",
      "AI: Hello Jiho! How can I assist you today?\n",
      "Human: I live in Seoul!\u001b[0m\n",
      "\n",
      "\u001b[1m> Finished chain.\u001b[0m\n"
     ]
    },
    {
     "data": {
      "text/plain": [
       "\"Seoul is a vibrant city with a rich history and culture. Is there anything specific you'd like to know or talk about regarding Seoul?\""
      ]
     },
     "execution_count": 12,
     "metadata": {},
     "output_type": "execute_result"
    }
   ],
   "source": [
    "chain.predict(question=\"I live in Seoul!\")"
   ]
  },
  {
   "cell_type": "code",
   "execution_count": 13,
   "metadata": {},
   "outputs": [
    {
     "name": "stdout",
     "output_type": "stream",
     "text": [
      "\n",
      "\n",
      "\u001b[1m> Entering new LLMChain chain...\u001b[0m\n",
      "Prompt after formatting:\n",
      "\u001b[32;1m\u001b[1;3mSystem: You are a helpful AI talking to human!\n",
      "Human: My name is jiho!\n",
      "AI: Hello Jiho! How can I assist you today?\n",
      "Human: I live in Seoul!\n",
      "AI: Seoul is a vibrant city with a rich history and culture. Is there anything specific you'd like to know or talk about regarding Seoul?\n",
      "Human: Gwangjang market is very famous traditional market in Seoul! There are lots of star foods including Spicy rice cake, beef tartare and so on.\u001b[0m\n",
      "\n",
      "\u001b[1m> Finished chain.\u001b[0m\n"
     ]
    },
    {
     "data": {
      "text/plain": [
       "'Yes, Gwangjang Market is indeed a popular traditional market in Seoul known for its delicious street food and traditional Korean dishes. Spicy rice cake (tteokbokki) and beef tartare (yukhoe) are definitely must-try items when visiting the market. Have you had a chance to try them yourself?'"
      ]
     },
     "execution_count": 13,
     "metadata": {},
     "output_type": "execute_result"
    }
   ],
   "source": [
    "chain.predict(question=\"Gwangjang market is very famous traditional market in Seoul! There are lots of star foods including Spicy rice cake, beef tartare and so on.\")"
   ]
  },
  {
   "cell_type": "code",
   "execution_count": 14,
   "metadata": {},
   "outputs": [
    {
     "name": "stdout",
     "output_type": "stream",
     "text": [
      "\n",
      "\n",
      "\u001b[1m> Entering new LLMChain chain...\u001b[0m\n",
      "Prompt after formatting:\n",
      "\u001b[32;1m\u001b[1;3mSystem: You are a helpful AI talking to human!\n",
      "System: The human introduces themselves as Jiho and mentions they live in Seoul. The AI acknowledges this and talks about Seoul's vibrant culture and history. The human then brings up Gwangjang market, a famous traditional market in Seoul, and mentions some of the popular foods there like Spicy rice cake and beef tartare.\n",
      "AI: Yes, Gwangjang Market is indeed a popular traditional market in Seoul known for its delicious street food and traditional Korean dishes. Spicy rice cake (tteokbokki) and beef tartare (yukhoe) are definitely must-try items when visiting the market. Have you had a chance to try them yourself?\n",
      "Human: Yeah, i went to there to eat yukhoe with my friend! Very delicious! Amazing!\u001b[0m\n",
      "\n",
      "\u001b[1m> Finished chain.\u001b[0m\n"
     ]
    },
    {
     "data": {
      "text/plain": [
       "\"That's wonderful to hear, Jiho! Yukhoe is a delicacy in Korean cuisine and it's great that you got to experience it at Gwangjang Market with your friend. The market is a fantastic place to explore and enjoy a variety of authentic Korean dishes. If you have any other favorite foods or places in Seoul, feel free to share!\""
      ]
     },
     "execution_count": 14,
     "metadata": {},
     "output_type": "execute_result"
    }
   ],
   "source": [
    "chain.predict(question=\"Yeah, i went to there to eat yukhoe with my friend! Very delicious! Amazing!\")"
   ]
  },
  {
   "cell_type": "code",
   "execution_count": 15,
   "metadata": {},
   "outputs": [
    {
     "data": {
      "text/plain": [
       "{'chat_history': [SystemMessage(content=\"The human introduces themselves as Jiho and mentions they live in Seoul. The AI acknowledges this and talks about Seoul's vibrant culture and history. The human then brings up Gwangjang market, a famous traditional market in Seoul, and mentions some of the popular foods there like Spicy rice cake and beef tartare. The AI agrees and highlights the delicious street food and traditional Korean dishes at the market. Jiho shares their experience of trying beef tartare (yukhoe) at Gwangjang Market with a friend and describes it as very delicious and amazing.\"),\n",
       "  AIMessage(content=\"That's wonderful to hear, Jiho! Yukhoe is a delicacy in Korean cuisine and it's great that you got to experience it at Gwangjang Market with your friend. The market is a fantastic place to explore and enjoy a variety of authentic Korean dishes. If you have any other favorite foods or places in Seoul, feel free to share!\")]}"
      ]
     },
     "execution_count": 15,
     "metadata": {},
     "output_type": "execute_result"
    }
   ],
   "source": [
    "memory.load_memory_variables({})"
   ]
  }
 ],
 "metadata": {
  "kernelspec": {
   "display_name": "gpt",
   "language": "python",
   "name": "python3"
  },
  "language_info": {
   "codemirror_mode": {
    "name": "ipython",
    "version": 3
   },
   "file_extension": ".py",
   "mimetype": "text/x-python",
   "name": "python",
   "nbconvert_exporter": "python",
   "pygments_lexer": "ipython3",
   "version": "3.11.8"
  }
 },
 "nbformat": 4,
 "nbformat_minor": 2
}
